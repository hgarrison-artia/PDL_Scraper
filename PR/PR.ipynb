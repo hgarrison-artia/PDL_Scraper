{
 "cells": [
  {
   "cell_type": "code",
   "execution_count": null,
   "id": "f6926939",
   "metadata": {},
   "outputs": [],
   "source": [
    "import os\n",
    "\n",
    "for file in os.listdir('PR'):\n",
    "    df = pd.read_csv(f'PR/{file}')\n"
   ]
  },
  {
   "cell_type": "code",
   "execution_count": 5,
   "id": "2291fe56",
   "metadata": {},
   "outputs": [
    {
     "ename": "PackageNotFoundError",
     "evalue": "Package not found at 'PDL Dental_20250213.docx'",
     "output_type": "error",
     "traceback": [
      "\u001b[31m---------------------------------------------------------------------------\u001b[39m",
      "\u001b[31mPackageNotFoundError\u001b[39m                      Traceback (most recent call last)",
      "\u001b[36mCell\u001b[39m\u001b[36m \u001b[39m\u001b[32mIn[5]\u001b[39m\u001b[32m, line 6\u001b[39m\n\u001b[32m      1\u001b[39m \u001b[38;5;28;01mimport\u001b[39;00m\u001b[38;5;250m \u001b[39m\u001b[34;01mdocx\u001b[39;00m\n\u001b[32m      2\u001b[39m \u001b[38;5;28;01mimport\u001b[39;00m\u001b[38;5;250m \u001b[39m\u001b[34;01mpandas\u001b[39;00m\u001b[38;5;250m \u001b[39m\u001b[38;5;28;01mas\u001b[39;00m\u001b[38;5;250m \u001b[39m\u001b[34;01mpd\u001b[39;00m\n\u001b[32m----> \u001b[39m\u001b[32m6\u001b[39m doc = \u001b[43mdocx\u001b[49m\u001b[43m.\u001b[49m\u001b[43mDocument\u001b[49m\u001b[43m(\u001b[49m\u001b[33;43m'\u001b[39;49m\u001b[33;43mPDL Dental_20250213.docx\u001b[39;49m\u001b[33;43m'\u001b[39;49m\u001b[43m)\u001b[49m\n\u001b[32m      7\u001b[39m all_data = []\n\u001b[32m      8\u001b[39m \u001b[38;5;28;01mfor\u001b[39;00m table \u001b[38;5;129;01min\u001b[39;00m doc.tables:\n",
      "\u001b[36mFile \u001b[39m\u001b[32m~\\AppData\\Local\\Packages\\PythonSoftwareFoundation.Python.3.13_qbz5n2kfra8p0\\LocalCache\\local-packages\\Python313\\site-packages\\docx\\api.py:27\u001b[39m, in \u001b[36mDocument\u001b[39m\u001b[34m(docx)\u001b[39m\n\u001b[32m     20\u001b[39m \u001b[38;5;250m\u001b[39m\u001b[33;03m\"\"\"Return a |Document| object loaded from `docx`, where `docx` can be either a path\u001b[39;00m\n\u001b[32m     21\u001b[39m \u001b[33;03mto a ``.docx`` file (a string) or a file-like object.\u001b[39;00m\n\u001b[32m     22\u001b[39m \n\u001b[32m     23\u001b[39m \u001b[33;03mIf `docx` is missing or ``None``, the built-in default document \"template\" is\u001b[39;00m\n\u001b[32m     24\u001b[39m \u001b[33;03mloaded.\u001b[39;00m\n\u001b[32m     25\u001b[39m \u001b[33;03m\"\"\"\u001b[39;00m\n\u001b[32m     26\u001b[39m docx = _default_docx_path() \u001b[38;5;28;01mif\u001b[39;00m docx \u001b[38;5;129;01mis\u001b[39;00m \u001b[38;5;28;01mNone\u001b[39;00m \u001b[38;5;28;01melse\u001b[39;00m docx\n\u001b[32m---> \u001b[39m\u001b[32m27\u001b[39m document_part = cast(\u001b[33m\"\u001b[39m\u001b[33mDocumentPart\u001b[39m\u001b[33m\"\u001b[39m, \u001b[43mPackage\u001b[49m\u001b[43m.\u001b[49m\u001b[43mopen\u001b[49m\u001b[43m(\u001b[49m\u001b[43mdocx\u001b[49m\u001b[43m)\u001b[49m.main_document_part)\n\u001b[32m     28\u001b[39m \u001b[38;5;28;01mif\u001b[39;00m document_part.content_type != CT.WML_DOCUMENT_MAIN:\n\u001b[32m     29\u001b[39m     tmpl = \u001b[33m\"\u001b[39m\u001b[33mfile \u001b[39m\u001b[33m'\u001b[39m\u001b[38;5;132;01m%s\u001b[39;00m\u001b[33m'\u001b[39m\u001b[33m is not a Word file, content type is \u001b[39m\u001b[33m'\u001b[39m\u001b[38;5;132;01m%s\u001b[39;00m\u001b[33m'\u001b[39m\u001b[33m\"\u001b[39m\n",
      "\u001b[36mFile \u001b[39m\u001b[32m~\\AppData\\Local\\Packages\\PythonSoftwareFoundation.Python.3.13_qbz5n2kfra8p0\\LocalCache\\local-packages\\Python313\\site-packages\\docx\\opc\\package.py:127\u001b[39m, in \u001b[36mOpcPackage.open\u001b[39m\u001b[34m(cls, pkg_file)\u001b[39m\n\u001b[32m    124\u001b[39m \u001b[38;5;129m@classmethod\u001b[39m\n\u001b[32m    125\u001b[39m \u001b[38;5;28;01mdef\u001b[39;00m\u001b[38;5;250m \u001b[39m\u001b[34mopen\u001b[39m(\u001b[38;5;28mcls\u001b[39m, pkg_file: \u001b[38;5;28mstr\u001b[39m | IO[\u001b[38;5;28mbytes\u001b[39m]) -> OpcPackage:\n\u001b[32m    126\u001b[39m \u001b[38;5;250m    \u001b[39m\u001b[33;03m\"\"\"Return an |OpcPackage| instance loaded with the contents of `pkg_file`.\"\"\"\u001b[39;00m\n\u001b[32m--> \u001b[39m\u001b[32m127\u001b[39m     pkg_reader = \u001b[43mPackageReader\u001b[49m\u001b[43m.\u001b[49m\u001b[43mfrom_file\u001b[49m\u001b[43m(\u001b[49m\u001b[43mpkg_file\u001b[49m\u001b[43m)\u001b[49m\n\u001b[32m    128\u001b[39m     package = \u001b[38;5;28mcls\u001b[39m()\n\u001b[32m    129\u001b[39m     Unmarshaller.unmarshal(pkg_reader, package, PartFactory)\n",
      "\u001b[36mFile \u001b[39m\u001b[32m~\\AppData\\Local\\Packages\\PythonSoftwareFoundation.Python.3.13_qbz5n2kfra8p0\\LocalCache\\local-packages\\Python313\\site-packages\\docx\\opc\\pkgreader.py:22\u001b[39m, in \u001b[36mPackageReader.from_file\u001b[39m\u001b[34m(pkg_file)\u001b[39m\n\u001b[32m     19\u001b[39m \u001b[38;5;129m@staticmethod\u001b[39m\n\u001b[32m     20\u001b[39m \u001b[38;5;28;01mdef\u001b[39;00m\u001b[38;5;250m \u001b[39m\u001b[34mfrom_file\u001b[39m(pkg_file):\n\u001b[32m     21\u001b[39m \u001b[38;5;250m    \u001b[39m\u001b[33;03m\"\"\"Return a |PackageReader| instance loaded with contents of `pkg_file`.\"\"\"\u001b[39;00m\n\u001b[32m---> \u001b[39m\u001b[32m22\u001b[39m     phys_reader = \u001b[43mPhysPkgReader\u001b[49m\u001b[43m(\u001b[49m\u001b[43mpkg_file\u001b[49m\u001b[43m)\u001b[49m\n\u001b[32m     23\u001b[39m     content_types = _ContentTypeMap.from_xml(phys_reader.content_types_xml)\n\u001b[32m     24\u001b[39m     pkg_srels = PackageReader._srels_for(phys_reader, PACKAGE_URI)\n",
      "\u001b[36mFile \u001b[39m\u001b[32m~\\AppData\\Local\\Packages\\PythonSoftwareFoundation.Python.3.13_qbz5n2kfra8p0\\LocalCache\\local-packages\\Python313\\site-packages\\docx\\opc\\phys_pkg.py:21\u001b[39m, in \u001b[36mPhysPkgReader.__new__\u001b[39m\u001b[34m(cls, pkg_file)\u001b[39m\n\u001b[32m     19\u001b[39m         reader_cls = _ZipPkgReader\n\u001b[32m     20\u001b[39m     \u001b[38;5;28;01melse\u001b[39;00m:\n\u001b[32m---> \u001b[39m\u001b[32m21\u001b[39m         \u001b[38;5;28;01mraise\u001b[39;00m PackageNotFoundError(\u001b[33m\"\u001b[39m\u001b[33mPackage not found at \u001b[39m\u001b[33m'\u001b[39m\u001b[38;5;132;01m%s\u001b[39;00m\u001b[33m'\u001b[39m\u001b[33m\"\u001b[39m % pkg_file)\n\u001b[32m     22\u001b[39m \u001b[38;5;28;01melse\u001b[39;00m:  \u001b[38;5;66;03m# assume it's a stream and pass it to Zip reader to sort out\u001b[39;00m\n\u001b[32m     23\u001b[39m     reader_cls = _ZipPkgReader\n",
      "\u001b[31mPackageNotFoundError\u001b[39m: Package not found at 'PDL Dental_20250213.docx'"
     ]
    }
   ],
   "source": [
    "import docx\n",
    "import pandas as pd\n",
    "\n",
    "\n",
    "\n",
    "doc = docx.Document('PDL Dental_20250213.docx')\n",
    "all_data = []\n",
    "for table in doc.tables:\n",
    "    data = []\n",
    "    for row in table.rows:\n",
    "        data.append([cell.text for cell in row.cells])\n",
    "    df = pd.DataFrame(data)\n",
    "    all_data.append(df)\n",
    "\n"
   ]
  },
  {
   "cell_type": "code",
   "execution_count": 4,
   "id": "99ed05f7",
   "metadata": {},
   "outputs": [
    {
     "name": "stdout",
     "output_type": "stream",
     "text": [
      "(21, 4)\n",
      "(16, 4)\n",
      "(11, 4)\n"
     ]
    }
   ],
   "source": [
    "for table in all_data:\n",
    "    print(table.shape)"
   ]
  },
  {
   "cell_type": "code",
   "execution_count": null,
   "id": "7eb9500b",
   "metadata": {},
   "outputs": [],
   "source": []
  }
 ],
 "metadata": {
  "kernelspec": {
   "display_name": "Python 3",
   "language": "python",
   "name": "python3"
  },
  "language_info": {
   "codemirror_mode": {
    "name": "ipython",
    "version": 3
   },
   "file_extension": ".py",
   "mimetype": "text/x-python",
   "name": "python",
   "nbconvert_exporter": "python",
   "pygments_lexer": "ipython3",
   "version": "3.13.5"
  }
 },
 "nbformat": 4,
 "nbformat_minor": 5
}
