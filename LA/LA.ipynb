{
 "cells": [
  {
   "cell_type": "code",
   "execution_count": 6,
   "metadata": {},
   "outputs": [
    {
     "name": "stdout",
     "output_type": "stream",
     "text": [
      "Highlighted text saved to highlighted_cells.csv\n"
     ]
    }
   ],
   "source": [
    "import pandas as pd\n",
    "from docx import Document\n",
    "\n",
    "def find_highlighted_cells(doc_path):\n",
    "    doc = Document(doc_path)\n",
    "    highlighted_cells = []\n",
    "\n",
    "    # Iterate through tables\n",
    "    for table in doc.tables:\n",
    "        for row in table.rows:\n",
    "            for cell in row.cells:\n",
    "                for paragraph in cell.paragraphs:\n",
    "                    for run in paragraph.runs:\n",
    "                        if run.font.highlight_color:  # Check if text is highlighted\n",
    "                            highlighted_cells.append([cell.text])\n",
    "                            break  # Stop checking further runs in the same cell\n",
    "\n",
    "    return highlighted_cells\n",
    "\n",
    "def save_to_csv(data, output_csv):\n",
    "    df = pd.DataFrame(data, columns=[\"Highlighted Text\"])\n",
    "    df.to_csv(output_csv, index=False, encoding=\"utf-8\")\n",
    "    print(f\"Highlighted text saved to {output_csv}\")\n",
    "\n",
    "doc_path = \"LA.docx\"\n",
    "output_csv = \"highlighted_cells.csv\"\n",
    "\n",
    "highlighted_cells = find_highlighted_cells(doc_path)\n",
    "save_to_csv(highlighted_cells, output_csv)\n"
   ]
  }
 ],
 "metadata": {
  "kernelspec": {
   "display_name": "Python 3",
   "language": "python",
   "name": "python3"
  },
  "language_info": {
   "codemirror_mode": {
    "name": "ipython",
    "version": 3
   },
   "file_extension": ".py",
   "mimetype": "text/x-python",
   "name": "python",
   "nbconvert_exporter": "python",
   "pygments_lexer": "ipython3",
   "version": "3.13.1"
  }
 },
 "nbformat": 4,
 "nbformat_minor": 2
}
