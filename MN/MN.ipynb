{
 "cells": [
  {
   "cell_type": "code",
   "execution_count": 6,
   "id": "30e983fc",
   "metadata": {},
   "outputs": [
    {
     "name": "stdout",
     "output_type": "stream",
     "text": [
      "<Document />\n",
      "\n"
     ]
    }
   ],
   "source": [
    "import xml.etree.ElementTree as ET\n",
    "\n",
    "# Parse the XML file\n",
    "tree = ET.parse('MN.xml')\n",
    "root = tree.getroot()\n",
    "\n",
    "# Find the <document> element (adjust the tag if it has a namespace)\n",
    "document_elem = root.find('.//Document')\n",
    "\n",
    "# If you want the string representation of the <document> element and its children:\n",
    "if document_elem is not None:\n",
    "    document_xml = ET.tostring(document_elem, encoding='unicode')\n",
    "    print(document_xml)\n",
    "else:\n",
    "    print(\"No <document> element found.\")"
   ]
  }
 ],
 "metadata": {
  "kernelspec": {
   "display_name": "Python 3",
   "language": "python",
   "name": "python3"
  },
  "language_info": {
   "codemirror_mode": {
    "name": "ipython",
    "version": 3
   },
   "file_extension": ".py",
   "mimetype": "text/x-python",
   "name": "python",
   "nbconvert_exporter": "python",
   "pygments_lexer": "ipython3",
   "version": "3.13.5"
  }
 },
 "nbformat": 4,
 "nbformat_minor": 5
}
