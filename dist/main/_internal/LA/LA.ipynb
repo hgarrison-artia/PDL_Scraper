{
 "cells": [
  {
   "cell_type": "code",
   "execution_count": 1,
   "metadata": {},
   "outputs": [],
   "source": [
    "import pandas as pd\n",
    "import docx\n",
    "\n",
    "doc_path = 'LA.docx'\n",
    "\n",
    "doc = docx.Document(doc_path)\n",
    "all_tables = []"
   ]
  },
  {
   "cell_type": "code",
   "execution_count": 3,
   "metadata": {},
   "outputs": [
    {
     "name": "stdout",
     "output_type": "stream",
     "text": [
      "                                       PREFERRED AGENTS  \\\n",
      "0     Clindamycin/Benzoyl Peroxide Gel (Generic for ...   \n",
      "1     Clindamycin/Benzoyl Peroxide Gel (Generic for ...   \n",
      "2                   Clindamycin Phosphate Gel (Generic)   \n",
      "3                Clindamycin Phosphate Lotion (Generic)   \n",
      "4        Clindamycin Phosphate Medicated Swab (Generic)   \n",
      "...                                                 ...   \n",
      "3149                                             DX, TD   \n",
      "3150                                                 CL   \n",
      "3151                                                 CL   \n",
      "3152                                                 CL   \n",
      "3153                                             BH, TD   \n",
      "\n",
      "                                   NON-PREFERRED AGENTS  \n",
      "0     Adapalene Cream, Gel Pump (Generic for Differin®)  \n",
      "1                           Adapalene Gel (AG; Generic)  \n",
      "2      Adapalene/Benzoyl Peroxide (Generic for Epiduo®)  \n",
      "3     Adapalene/Benzoyl Peroxide Gel with Pump (AG; ...  \n",
      "4     Adapalene/Benzoyl Peroxide/Clindamycin Gel (Ca...  \n",
      "...                                                 ...  \n",
      "3149                          Pulmozyme® (Dornase Alfa)  \n",
      "3150                              Pyrukynd® (Mitapivat)  \n",
      "3151                                Qalsody® (Tofersen)  \n",
      "3152                        Qualaquin® (Quinine) 324 mg  \n",
      "3153               Radicava®, Radicava ORS® (Edaravone)  \n",
      "\n",
      "[3154 rows x 2 columns]\n"
     ]
    }
   ],
   "source": [
    "\n",
    "def get_first_two_unique_columns(df):\n",
    "    # Ensure there are at least two columns\n",
    "    if df.shape[1] < 2:\n",
    "        raise ValueError(\"DataFrame must have at least two columns\")\n",
    "    \n",
    "    return pd.DataFrame({\"Col1\":df.iloc[:, 1], \"Col2\":df.iloc[:, 2]})\n",
    "\n",
    "\n",
    "for table in doc.tables:\n",
    "    data = []\n",
    "    for row in table.rows:\n",
    "        data.append([cell.text.strip() for cell in row.cells])  # Extract text from each cell\n",
    "\n",
    "    df = pd.DataFrame(data)  # Convert to DataFrame\n",
    "    df.columns = df.iloc[0,:]\n",
    "    df = df[1:]\n",
    "\n",
    "    new_df = get_first_two_unique_columns(df)\n",
    "\n",
    "    new_df.columns = ['PREFERRED AGENTS', 'NON-PREFERRED AGENTS']\n",
    "\n",
    "\n",
    "    same_value_rows = new_df[new_df.apply(lambda x: x.nunique() == 1, axis=1)]\n",
    "    df_filtered = new_df.drop(same_value_rows.index).reset_index(drop=True)\n",
    "\n",
    "    all_tables.append(df_filtered)\n",
    "\n",
    "final_df = pd.concat(all_tables).reset_index(drop=True)\n",
    "print(final_df)\n",
    "final_df.to_csv('../LA_PDL.csv', index=False)"
   ]
  }
 ],
 "metadata": {
  "kernelspec": {
   "display_name": "Python 3",
   "language": "python",
   "name": "python3"
  },
  "language_info": {
   "codemirror_mode": {
    "name": "ipython",
    "version": 3
   },
   "file_extension": ".py",
   "mimetype": "text/x-python",
   "name": "python",
   "nbconvert_exporter": "python",
   "pygments_lexer": "ipython3",
   "version": "3.13.1"
  }
 },
 "nbformat": 4,
 "nbformat_minor": 2
}
