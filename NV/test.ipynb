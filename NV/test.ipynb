{
 "cells": [
  {
   "cell_type": "code",
   "execution_count": null,
   "metadata": {},
   "outputs": [
    {
     "name": "stdout",
     "output_type": "stream",
     "text": [
      "['Preferred Products', 'Non-Preferred Products']\n",
      "['naproxen susp naproxen tab naproxen DR tab piroxicam cap sulindac tab', 'indomethacin ER cap ketoprofen cap mefenamic cap meloxicam susp Naprelan® CR tab naproxen CR tab naproxen ER tab oxaprozin tab\\nSprix® spray Vimovo® tab Zipsor® cap\\nZorvolex® cap']\n",
      "['1BAntihistamines', '1BAntihistamines']\n",
      "['Preferred Products', 'Non-Preferred Products']\n",
      "['25B H1 Blockers – Non-Sedating', '25B H1 Blockers – Non-Sedating']\n",
      "['cetirizine tab, chewable OTC cetirizine soln 1 mg/1 mL levocetirizine tab, soln\\nloratadine D OTC', 'Allegra® cetirizine D OTC\\ncetirizine cap OTC\\ncetirizine soln 5 mg/5 mL OTC']\n",
      "['loratadine tab, ODT, chewable, soln OTC', 'Clarinex® Clarinex-D® Claritin® desloratadine fexofenadine\\nfexofenadine D OTC\\nXyzal®']\n",
      "['2BAnti-Infective Agents', '2BAnti-Infective Agents']\n",
      "['Preferred Products', 'Non-Preferred Products']\n",
      "['26B Aminoglycosides', '26B Aminoglycosides']\n",
      "['91BInhaled Aminoglycosides', '91BInhaled Aminoglycosides']\n",
      "['Bethkis® Kitabis® Pak\\ntobramycin 300 mg/5 mL nebulizer', 'Tobi Podhaler®\\ntobramycin 300 mg/4 mL nebulizer']\n"
     ]
    }
   ],
   "source": [
    "import docx\n",
    "\n",
    "def extract_tables_from_docx(docx_path):\n",
    "    doc = docx.Document(docx_path)\n",
    "    all_tables = []\n",
    "\n",
    "    for table in doc.tables:\n",
    "        table_data = []\n",
    "        for row in table.rows:\n",
    "            row_data = []\n",
    "            for cell in row.cells:\n",
    "                row_data.append(cell.text.strip())\n",
    "            table_data.append(row_data)\n",
    "        all_tables.append(table_data)\n",
    "\n",
    "    return all_tables\n",
    "\n",
    "# Example usage\n",
    "path = 'NV.docx'\n",
    "tables = extract_tables_from_docx(path)\n",
    "\n",
    "# Print first table\n",
    "for row in tables[5]:\n",
    "    print(row[:-1])\n",
    "\n"
   ]
  }
 ],
 "metadata": {
  "kernelspec": {
   "display_name": "3.8.20",
   "language": "python",
   "name": "python3"
  },
  "language_info": {
   "codemirror_mode": {
    "name": "ipython",
    "version": 3
   },
   "file_extension": ".py",
   "mimetype": "text/x-python",
   "name": "python",
   "nbconvert_exporter": "python",
   "pygments_lexer": "ipython3",
   "version": "3.8.20"
  }
 },
 "nbformat": 4,
 "nbformat_minor": 2
}
