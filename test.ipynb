{
 "cells": [
  {
   "cell_type": "code",
   "execution_count": 1,
   "id": "09e11ed6",
   "metadata": {},
   "outputs": [],
   "source": [
    "import pandas as pd\n",
    "from sqlalchemy import create_engine\n",
    "from sqlalchemy.engine import URL\n",
    "import numpy as np\n",
    "\n",
    "username = \"artia_readonly\"\n",
    "password = 'ap3ljax#!0frack'\n",
    "host = \"artia-dashboard-psql.postgres.database.azure.com\"\n",
    "port = \"5432\"              \n",
    "database = \"artia_dashboard\"\n",
    "\n",
    "url = URL.create(\n",
    "    \"postgresql+psycopg2\",\n",
    "    username=username,\n",
    "    password=password,\n",
    "    host=host,\n",
    "    port=port,\n",
    "    database=database,\n",
    ")\n",
    "\n",
    "engine = create_engine(url)"
   ]
  },
  {
   "cell_type": "code",
   "execution_count": 2,
   "id": "65f28e66",
   "metadata": {},
   "outputs": [],
   "source": [
    "with open('user_subscription_report.sql', 'r') as f:\n",
    "    sql_query = f.read()\n",
    "\n",
    "df = pd.read_sql(sql_query, engine)\n",
    "df.to_csv('user_subscription_report.csv', index=False)"
   ]
  },
  {
   "cell_type": "code",
   "execution_count": 3,
   "id": "a9f8a2c7",
   "metadata": {},
   "outputs": [],
   "source": [
    "with open('coverage_data.sql', 'r') as f:\n",
    "    sql_query = f.read()\n",
    "    \n",
    "df = pd.read_sql(sql_query, engine)\n",
    "drug_df = df\n",
    "drug_df['capsule_name'] = [product + ' ' + tag if tag != '' else product for product, tag in zip(drug_df['Product'], drug_df['Coverage Tag'])]\n",
    "drug_df = drug_df[['ST', 'capsule_name', 'Class']]\n",
    "drug_df.columns = ['ST','Drugs','Class']\n",
    "drug_df = drug_df.drop_duplicates().reset_index(drop=True)\n",
    "drug_df.to_csv('drugs.csv', index=False)"
   ]
  },
  {
   "cell_type": "code",
   "execution_count": 72,
   "id": "5c154907",
   "metadata": {},
   "outputs": [],
   "source": [
    "coverage_tags = pd.read_sql(\"SELECT * FROM coverage_tags\", engine)\n",
    "state_coverages = pd.read_sql(\"SELECT * FROM state_coverages\", engine)\n",
    "state_coverage_coverage_tags = pd.read_sql(\"SELECT * FROM state_coverage_coverage_tags\", engine)\n",
    "drugs = pd.read_sql(\"SELECT * FROM drugs\", engine)\n",
    "states = pd.read_sql(\"SELECT * FROM states\", engine)"
   ]
  },
  {
   "cell_type": "code",
   "execution_count": 84,
   "id": "75ce8f55",
   "metadata": {},
   "outputs": [],
   "source": [
    "coverage_data = pd.DataFrame()\n",
    "\n",
    "state_name_map = states.set_index('id')['name'].to_dict()\n",
    "coverage_data['State'] = state_coverages['state_id'].map(state_name_map)\n",
    "\n",
    "state_map = states.set_index('id')['code'].to_dict()\n",
    "coverage_data['ST'] = state_coverages['state_id'].map(state_map)\n",
    "\n",
    "drug_map = drugs.set_index('id')['name'].to_dict()\n",
    "coverage_data['Product'] = state_coverages['drug_id'].map(drug_map)\n",
    "\n",
    "coverage_tag_map = coverage_tags.set_index('id')['name'].to_dict()\n",
    "coverage_tag_array = state_coverage_coverage_tags['coverage_tag_id'].map(coverage_tag_map)\n",
    "\n",
    "coverage_tag_df = pd.DataFrame()\n",
    "coverage_tag_df['coverage_tag'] = coverage_tag_array\n",
    "coverage_tag_df['state_coverage_id'] = state_coverage_coverage_tags['state_coverage_id']\n",
    "\n",
    "state_coverage_coverage_tag_map = (\n",
    "    coverage_tag_df\n",
    "    .groupby('state_coverage_id')['coverage_tag']\n",
    "    .apply(lambda x: ', '.join(sorted(set(x.dropna()))))\n",
    "    .to_dict()\n",
    ")\n",
    "coverage_data['Coverage Tag'] = state_coverages['id'].map(state_coverage_coverage_tag_map)\n",
    "\n",
    "coverage_data = coverage_data.sort_values('State').reset_index(drop=True)\n",
    "\n",
    "coverage_data['Coverage Tag'] = coverage_data['Coverage Tag'].replace(np.nan, '')\n",
    "\n",
    "coverage_data['capsule_name'] = [product + ' ' + tag if tag != '' else product for product, tag in zip(coverage_data['Product'], coverage_data['Coverage Tag'])]"
   ]
  },
  {
   "cell_type": "code",
   "execution_count": 5,
   "id": "8e8c98ac",
   "metadata": {},
   "outputs": [],
   "source": [
    "with open('A_team_export.sql', 'r') as f:\n",
    "    sql_query = f.read()\n",
    "    \n",
    "df = pd.read_sql(sql_query, engine)\n",
    "df.to_csv('A_team_export.csv', index=False)"
   ]
  },
  {
   "cell_type": "code",
   "execution_count": 42,
   "id": "62a43858",
   "metadata": {},
   "outputs": [],
   "source": [
    "drug = 'Vitafol-Ob+Dha'\n",
    "pdl_df = pd.DataFrame()\n",
    "pdl_df['pdl_name'] = ['VITAFOL-OB+DHA']\n",
    "\n",
    "first_word = drug.split()[0].lower()\n",
    "matches = pdl_df[pdl_df['pdl_name'].str.lower().str.contains(first_word, na=False, regex=False)]"
   ]
  },
  {
   "cell_type": "code",
   "execution_count": 43,
   "id": "70b4e0f2",
   "metadata": {},
   "outputs": [
    {
     "data": {
      "text/html": [
       "<div>\n",
       "<style scoped>\n",
       "    .dataframe tbody tr th:only-of-type {\n",
       "        vertical-align: middle;\n",
       "    }\n",
       "\n",
       "    .dataframe tbody tr th {\n",
       "        vertical-align: top;\n",
       "    }\n",
       "\n",
       "    .dataframe thead th {\n",
       "        text-align: right;\n",
       "    }\n",
       "</style>\n",
       "<table border=\"1\" class=\"dataframe\">\n",
       "  <thead>\n",
       "    <tr style=\"text-align: right;\">\n",
       "      <th></th>\n",
       "      <th>pdl_name</th>\n",
       "    </tr>\n",
       "  </thead>\n",
       "  <tbody>\n",
       "    <tr>\n",
       "      <th>0</th>\n",
       "      <td>VITAFOL-OB+DHA</td>\n",
       "    </tr>\n",
       "  </tbody>\n",
       "</table>\n",
       "</div>"
      ],
      "text/plain": [
       "         pdl_name\n",
       "0  VITAFOL-OB+DHA"
      ]
     },
     "execution_count": 43,
     "metadata": {},
     "output_type": "execute_result"
    }
   ],
   "source": [
    "matches"
   ]
  }
 ],
 "metadata": {
  "kernelspec": {
   "display_name": "Python 3",
   "language": "python",
   "name": "python3"
  },
  "language_info": {
   "codemirror_mode": {
    "name": "ipython",
    "version": 3
   },
   "file_extension": ".py",
   "mimetype": "text/x-python",
   "name": "python",
   "nbconvert_exporter": "python",
   "pygments_lexer": "ipython3",
   "version": "3.13.7"
  }
 },
 "nbformat": 4,
 "nbformat_minor": 5
}
