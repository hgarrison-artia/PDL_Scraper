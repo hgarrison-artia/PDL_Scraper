{
 "cells": [
  {
   "cell_type": "code",
   "execution_count": 11,
   "metadata": {},
   "outputs": [
    {
     "name": "stdout",
     "output_type": "stream",
     "text": [
      "Requirement already satisfied: openpyxl in /Library/Frameworks/Python.framework/Versions/3.13/lib/python3.13/site-packages (3.1.5)\n",
      "Requirement already satisfied: et-xmlfile in /Library/Frameworks/Python.framework/Versions/3.13/lib/python3.13/site-packages (from openpyxl) (2.0.0)\n",
      "Note: you may need to restart the kernel to use updated packages.\n"
     ]
    }
   ],
   "source": [
    "%pip install openpyxl\n",
    "\n",
    "import openpyxl\n",
    "import csv"
   ]
  },
  {
   "cell_type": "code",
   "execution_count": 12,
   "metadata": {},
   "outputs": [],
   "source": [
    "file_path = \"IA.xlsx\"\n",
    "wb = openpyxl.load_workbook(file_path)\n",
    "ws = wb.active"
   ]
  },
  {
   "cell_type": "code",
   "execution_count": 13,
   "metadata": {},
   "outputs": [],
   "source": [
    "# Unmerge all merged cells\n",
    "for merged_range in list(ws.merged_cells.ranges):\n",
    "    ws.unmerge_cells(str(merged_range))"
   ]
  },
  {
   "cell_type": "code",
   "execution_count": 18,
   "metadata": {},
   "outputs": [],
   "source": [
    "# Keywords to identify the header row\n",
    "header_keywords = {key.strip() for key in [\"B, G or O\", \"P, N, R or NR\", \"Therapeutic Category\", \"PA Form Link\"]}\n",
    "\n",
    "# Find the row index where the headers appear\n",
    "header_row = None\n",
    "column_indices = {}"
   ]
  },
  {
   "cell_type": "code",
   "execution_count": 19,
   "metadata": {},
   "outputs": [
    {
     "name": "stdout",
     "output_type": "stream",
     "text": [
      "Row 1: (None, None, None, None, None, 'Iowa Department of Health and Human Services Iowa Medicaid Program\\nPDL Effective Date January 1, 2025', None, None, None, None, None, None, None, None, None, None)\n",
      "Row 2: ('Highlighted categories denote new changes to the PDL since previous update', None, None, None, None, None, None, None, None, None, None, None, None, None, None, None)\n",
      "Row 3: ('B,\\xa0G,\\xa0O:\\nB = Brand G = Generic O = OTC', None, 'P,\\xa0N,\\xa0R,\\xa0or\\xa0NR:\\nP = Preferred\\nN = Non-Preferred R = Recommended\\nNR = Non-Recommended', None, None, None, None, None, None, None, None, None, None, None, None, None)\n",
      "Row 4: (None, None, None, None, None, None, None, None, 'Key\\xa0to\\xa0Color\\xa0Highlights:', None, None, None, None, None, None, None)\n",
      "Row 5: (None, None, None, None, None, None, None, None, None, None, None, None, None, None, None, None)\n",
      "Row 6: (None, None, None, None, None, None, None, None, 'Blue', None, '- Changes in PDL Status/PA Criteria\\n- New Drugs', None, None, None, None, None)\n",
      "Row 7: (None, None, None, None, None, None, None, None, None, None, None, None, None, None, None, None)\n",
      "Row 8: (None, None, None, None, None, None, None, None, 'Pink', None, None, None, None, None, None, None)\n",
      "Row 9: (None, None, None, None, None, None, None, None, None, None, None, None, None, None, None, None)\n",
      "Row 10: (None, None, None, None, None, None, None, None, 'Blue\\xa0Underline\\xa0- Click hyperlink for PA Form Hover to the left of Comment Number for comment text', None, None, None, None, None, None, None)\n",
      "Row 11: ('Comment Num', None, None, None, 'Comment', None, None, None, None, None, None, None, None, None, None, None)\n",
      "Row 12: (3, None, None, None, 'BUSPIRONE 30mg - Use 2 BUSPIRONE 15mg tablets', None, None, None, None, None, None, None, None, None, None, None)\n",
      "Row 13: (6, None, None, None, 'FLUOXETINE HCL 20mg TABS - Use FLUOXETINE HCL 20mg CAPS instead', None, None, None, None, None, None, None, None, None, None, None)\n",
      "Row 14: (11, None, None, None, 'PA Required', None, None, None, None, None, None, None, None, None, None, None)\n",
      "Row 15: (12, None, None, None, 'PA Required. Weight loss indication not covered', None, None, None, None, None, None, None, None, None, None, None)\n",
      "Row 16: (13, None, None, None, 'PA Required > 90 days', None, None, None, None, None, None, None, None, None, None, None)\n",
      "Row 17: (16, None, None, None, 'Grandfathered for Existing Users with previous Actos use or CHF diagnosis', None, None, None, None, None, None, None, None, None, None, None)\n",
      "Row 18: (17, None, None, None, 'PA Required> 12 Units/30 Days supply', None, None, None, None, None, None, None, None, None, None, None)\n",
      "Row 19: (19, None, None, None, 'Preferred < 8yo', None, None, None, None, None, None, None, None, None, None, None)\n",
      "Row 20: (23, None, None, None, 'ULTRACET - Use Tramadol & Acetaminophen separately', None, None, None, None, None, None, None, None, None, None, None)\n",
      "Row 21: (24, None, None, None, 'PA Required >= 21 yo.', None, None, None, None, None, None, None, None, None, None, None)\n",
      "Row 22: (27, None, None, None, 'PA required for quantities exceeding 12-40mg capsules and 8-80mg capsules', None, None, None, None, None, None, None, None, None, None, None)\n",
      "Row 23: (28, None, None, None, 'PA required for quantities exceeding 60-4mg tabs, 60-8mg tabs', None, None, None, None, None, None, None, None, None, None, None)\n",
      "Row 24: (29, None, None, None, 'PA required for quantities exceeding 60-4mg tabs, 60-8mg tabs.', None, None, None, None, None, None, None, None, None, None, None)\n",
      "Row 25: (36, None, None, None, 'Payable for members who are 12 years of age and older. Quantity limitations of 12 packets/4 weeks (28 days) or a total of 48 packets/16 weeks (112 days).', None, None, None, None, None, None, None, None, None, None, None)\n",
      "Row 26: (37, None, None, None, 'Restricted to persons 40 years of age and older.', None, None, None, None, None, None, None, None, None, None, None)\n",
      "Row 27: (39, None, None, None, 'Grandfather Existing Users', None, None, None, None, None, None, None, None, None, None, None)\n",
      "Row 28: (46, None, None, None, 'Grandfather for seizure disorder.', None, None, None, None, None, None, None, None, None, None, None)\n",
      "Row 29: (47, None, None, None, 'Preferred with Conditions and allow a one time fill.', None, None, None, None, None, None, None, None, None, None, None)\n",
      "Row 30: (50, None, None, None, 'Requires a Selected Brand Name Drug PA', None, None, None, None, None, None, None, None, None, None, None)\n",
      "Row 31: (52, None, None, None, 'Imipramine Pamoate - Use Imipramine HCL', None, None, None, None, None, None, None, None, None, None, None)\n",
      "Row 32: (63, None, None, None, 'Initial fill limited to 15 day supply.', None, None, None, None, None, None, None, None, None, None, None)\n",
      "Row 33: (64, None, None, None, 'Use Multiples of Phenytoin Sodium 100mg Capsules.', None, None, None, None, None, None, None, None, None, None, None)\n",
      "Row 34: (69, None, None, None, 'Payable for members who are 18 years of age and older. Quantity limitations of 30 grams/4 weeks (28 days) or a total of 120 grams/16 weeks (112 days)', None, None, None, None, None, None, None, None, None, None, None)\n",
      "Row 35: (70, None, None, None, 'Payable for members 50 years of age and older without prior authorization', None, None, None, None, None, None, None, None, None, None, None)\n",
      "Row 36: (72, None, None, None, 'Preferred < 2 years of age', None, None, None, None, None, None, None, None, None, None, None)\n",
      "Row 37: (74, None, None, None, 'PA Required < 4 years of age', None, None, None, None, None, None, None, None, None, None, None)\n",
      "Row 38: (77, None, None, None, 'PA Required < 6 years of age', None, None, None, None, None, None, None, None, None, None, None)\n",
      "Row 39: (78, None, None, None, 'PA Required < 9 years of age', None, None, None, None, None, None, None, None, None, None, None)\n",
      "Row 40: (80, None, None, None, 'PA Required < 18 years of age', None, None, None, None, None, None, None, None, None, None, None)\n",
      "Row 41: (87, None, None, None, 'No manual PA required if HMG-CoA reductase inhibitor found in member’s pharmacy claims history in past 12 months.', None, None, None, None, None, None, None, None, None, None, None)\n",
      "Row 42: (90, None, None, None, 'No manual PA required if a preferred injectable MS agent is found in member’s pharmacy claims history in past 12 months', None, None, None, None, None, None, None, None, None, None, None)\n",
      "Row 43: (93, None, None, None, 'No PA required for members 6 years of age or older when dosed within established quantity limits', None, None, None, None, None, None, None, None, None, None, None)\n",
      "Row 44: ('Comment Num', None, None, None, 'Comment', None, None, None, None, None, None, None, None, None, None, None)\n",
      "Row 45: (98, None, None, None, 'PA required. Preferred for all indicated diagnoses after step through one preferred TNF.', None, None, None, None, None, None, None, None, None, None, None)\n",
      "Row 46: (99, None, None, None, 'Preferred product is authorized generic of EpiPen distributed by labeler 49502', None, None, None, None, None, None, None, None, None, None, None)\n",
      "Row 47: (105, None, None, None, 'Unit Dose Preferred. No manual PA required if a preferred artificial tear agent is found in member’s pharmacy claims history in past 12 months', None, None, None, None, None, None, None, None, None, None, None)\n",
      "Row 48: (106, None, None, None, 'Preferred for indicated age group (2 to 12 years of age)', None, None, None, None, None, None, None, None, None, None, None)\n",
      "Row 49: (110, None, None, None, '72-hour emergency supply not available', None, None, None, None, None, None, None, None, None, None, None)\n",
      "Row 50: (111, None, None, None, 'PA required < 6 years of age and > 17 years of age', None, None, None, None, None, None, None, None, None, None, None)\n",
      "Row 51: (112, None, None, None, 'PA Required < 3 years of age and > 20 years of age', None, None, None, None, None, None, None, None, None, None, None)\n",
      "Row 52: (113, None, None, None, 'PA Required < 6 years of age and > 20 years of age', None, None, None, None, None, None, None, None, None, None, None)\n",
      "Row 53: (117, None, None, None, 'PA Required < 12 years of age', None, None, None, None, None, None, None, None, None, None, None)\n",
      "Row 54: (119, None, None, None, 'Preferred product is labeler 00781', None, None, None, None, None, None, None, None, None, None, None)\n",
      "Row 55: (121, None, None, None, 'Preferred after step through armodafinil or modafinil', None, None, None, None, None, None, None, None, None, None, None)\n",
      "Row 56: (122, None, None, None, 'PA required for quantities exceeding 50mL per 30 days', None, None, None, None, None, None, None, None, None, None, None)\n",
      "Row 57: (125, None, None, None, 'PA required. Preferred for treatment with quantity limit; Non-Preferred for prophylaxis', None, None, None, None, None, None, None, None, None, None, None)\n",
      "Row 58: (126, None, None, None, 'PA Required < 6 years of age and > 9 years of age', None, None, None, None, None, None, None, None, None, None, None)\n",
      "Row 59: (127, None, None, None, 'PA required > 12 years of age', None, None, None, None, None, None, None, None, None, None, None)\n",
      "Row 60: (128, None, None, None, 'PA Required < 16 years of age and > 20 years of age', None, None, None, None, None, None, None, None, None, None, None)\n",
      "Row 61: (129, None, None, None, 'PA Required < 17 years of age and > 20 years of age', None, None, None, None, None, None, None, None, None, None, None)\n",
      "Row 62: (130, None, None, None, 'PA required for 110mcg >= 12 years of age', None, None, None, None, None, None, None, None, None, None, None)\n",
      "Row 63: (131, None, None, None, 'Preferred product is by labeler 00955', None, None, None, None, None, None, None, None, None, None, None)\n",
      "Row 64: (132, None, None, None, 'PA required for males under the age of 18', None, None, None, None, None, None, None, None, None, None, None)\n",
      "Row 65: (133, None, None, None, 'PA required < 16 years of age', None, None, None, None, None, None, None, None, None, None, None)\n",
      "Row 66: (134, None, None, None, 'Preferred < 5 years of age', None, None, None, None, None, None, None, None, None, None, None)\n",
      "Row 67: (135, None, None, None, '12 month lookback for 2 antiepileptic drugs', None, None, None, None, None, None, None, None, None, None, None)\n",
      "Row 68: (136, None, None, None, 'PA required for diagnosis confirmation', None, None, None, None, None, None, None, None, None, None, None)\n",
      "Row 69: ('Iowa Medicaid Preferred Drug List (PDL) New Drug Process\\nNew\\xa0Drug\\xa0Entities\\nNew drug entities (including new generics and new drug product dosage forms of existing drug entities) will be identified weekly and immediately be coded as \"Non-preferred-Prior Authorization required\" until presented at the next scheduled P&T [pharmaceutical and therapeutics] Committee meeting. If the drug category requires step therapy, the step therapy requirements must also be met, treating the new drug as a non-preferred, step 3 drug. These prior authorization and step therapy restrictions will continue through the review process, including while committee recommendations are being made, and lasting until DHS makes a final determination. The 72-hour emergency supply may not be available for medications intended for a short duration of therapy.\\nExceptions\\xa0to\\xa0the\\xa0Non-preferred\\xa0default\\xa0policy\\xa0for\\xa0new\\xa0PDL\\xa0drugs', None, None, None, None, None, None, None, None, None, None, None, None, None, None, None)\n",
      "Row 70: (None, 'There are two major potential exceptions to the non-preferred default policy for new PDL drugs:\\nA). If a new medication is classified as a priority drug by the FDA, the State may indicate that such a drug is preferred, until the drug is reviewed by the P&T Committee at the nearest scheduled meeting.\\nB). The State may decide to designate a new drug as \"draft preferred\" and provide immediate access and increased therapeutic choice to physicians until the drug is reviewed by the P&T Committee at the nearest scheduled meeting if:\\n- a new drug is therapeutically equivalent or superior to existing preferred or non-preferred choices, and\\n- is as safe or safer than existing preferred or non-preferred choices, and\\n- the net cost, adjusted for all rebates, is less expensive than all existing preferred choices.\\nExisting\\xa0PDL\\xa0Drugs', None, None, None, None, None, None, None, None, None, None, None, None, None, None)\n",
      "Row 71: (\"Although the State discourages supplemental rebate offers on existing PDL drugs between annual bidding periods, it may entertain such bids and may accept them if they are determined to represent significant additional savings or if they would replace a delinquent manufacturer's product or a preferred drug pulled from the marketplace or significantly restricted by the FDA. This interim preferred status will remain in effect until the drug is reviewed by the P&T Committee at the next scheduled meeting. Supplemental rebates will only be invoiced for approved drugs under contract. Draft preferred drugs with supplemental rebates will not be invoiced until approved by the Committee and accepted by the State. At that time, the supplemental rebates will be invoiced back to the effective date of the agreement, which is the date the drug began to benefit from preferred status\", None, None, None, None, None, None, None, None, None, None, None, None, None, None, None)\n",
      "Row 72: ('B, G or O', None, None, 'Comment', None, 'P, N, R or NR', 'Therapeutic Category', None, None, None, None, 'PA Form Link', None, None, None, None)\n",
      "Detected header row: 72\n",
      "Column indices mapping: {'B, G or O': 1, 'P, N, R or NR': 6, 'Therapeutic Category': 7, 'PA Form Link': 12}\n"
     ]
    }
   ],
   "source": [
    "# Find the header row and identify column indices for the relevant headers\n",
    "for idx, row in enumerate(ws.iter_rows(min_row=1, max_row=ws.max_row, values_only=True), start=1):\n",
    "    print(f\"Row {idx}: {row}\")  # Debugging: Print each row to see how it looks\n",
    "    \n",
    "    # Strip spaces from non-empty cells and check for header keywords\n",
    "    cleaned_row = [cell.strip() if isinstance(cell, str) else cell for cell in row]\n",
    "    \n",
    "    if any(cell in header_keywords for cell in cleaned_row if cell):  # Ignore empty cells\n",
    "        header_row = idx\n",
    "        # Identify column indices, ensuring they aren't empty\n",
    "        for col_idx, cell in enumerate(cleaned_row, start=1):\n",
    "            if cell in header_keywords:\n",
    "                column_indices[cell] = col_idx\n",
    "        break  # Stop once we find the first valid header row\n",
    "\n",
    "# Debugging: Print detected headers\n",
    "print(f\"Detected header row: {header_row}\")\n",
    "print(f\"Column indices mapping: {column_indices}\")\n"
   ]
  },
  {
   "cell_type": "code",
   "execution_count": 21,
   "metadata": {},
   "outputs": [
    {
     "name": "stdout",
     "output_type": "stream",
     "text": [
      "Data successfully exported to ../IA_PDL.csv\n"
     ]
    }
   ],
   "source": [
    "\n",
    "if not header_row or not column_indices:\n",
    "    raise ValueError(\"Header row not found or required columns are missing. Please check the file structure.\")\n",
    "\n",
    "# Define the output CSV column headers\n",
    "column_headers = [\"Drug Name\", \"Preferred, Non-Preferred, Reviewed, Non-Reviewed\"]\n",
    "\n",
    "# Initialize data list\n",
    "data = [column_headers]\n",
    "last_category = None  # To track the last seen Therapeutic Category\n",
    "\n",
    "# Validation functions\n",
    "def validate_text(value):\n",
    "    return isinstance(value, str) and bool(value.strip())  # Ensure it's a non-empty string\n",
    "\n",
    "def validate_pnrnr(value):\n",
    "    return value in [\"P\", \"N\", \"R\", \"NR\"]\n",
    "\n",
    "# Extract data from the relevant columns based on dynamic header detection\n",
    "for row in ws.iter_rows(min_row=header_row + 1, values_only=True):\n",
    "\n",
    "    # Check if the row is a repeated header and skip it\n",
    "    if any(cell in header_keywords for cell in row if cell):\n",
    "        continue  # Skip repeated headers\n",
    "\n",
    "    # Extract relevant columns\n",
    "    extracted_row = [\n",
    "        row[column_indices.get(\"Therapeutic Category\", None) - 1] if \"Therapeutic Category\" in column_indices else None,\n",
    "        row[column_indices.get(\"P, N, R or NR\", None) - 1] if \"P, N, R or NR\" in column_indices else None,\n",
    "    ]\n",
    "\n",
    "    # Validate Drug Name (Therapeutic Category)\n",
    "    if extracted_row[0] and not validate_text(extracted_row[0]):\n",
    "        extracted_row[0] = \"Error\"\n",
    "\n",
    "    # Validate Preferred, Non-Preferred, Reviewed, Non-Reviewed\n",
    "    if extracted_row[1] and not validate_pnrnr(extracted_row[1]):\n",
    "        extracted_row[1] = \"Error\"\n",
    "\n",
    "    data.append(extracted_row)\n",
    "\n",
    "# Export data to CSV\n",
    "csv_file_path = \"../IA_PDL.csv\" \n",
    "with open(csv_file_path, mode=\"w\", newline=\"\", encoding=\"utf-8\") as file:\n",
    "    writer = csv.writer(file)\n",
    "    writer.writerows(data)\n",
    "\n",
    "print(f\"Data successfully exported to {csv_file_path}\")\n"
   ]
  }
 ],
 "metadata": {
  "kernelspec": {
   "display_name": "Python 3",
   "language": "python",
   "name": "python3"
  },
  "language_info": {
   "codemirror_mode": {
    "name": "ipython",
    "version": 3
   },
   "file_extension": ".py",
   "mimetype": "text/x-python",
   "name": "python",
   "nbconvert_exporter": "python",
   "pygments_lexer": "ipython3",
   "version": "3.13.1"
  }
 },
 "nbformat": 4,
 "nbformat_minor": 2
}
